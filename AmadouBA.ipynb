{
 "cells": [
  {
   "cell_type": "markdown",
   "metadata": {},
   "source": [
    "📌 Plan du Travail :\n",
    "1️⃣ Préparation des Données\n",
    "✅ Charger et explorer les données du fichier Donnnées_Projet_M2SID2023_2024.xlsx\n",
    "✅ Vérifier les valeurs manquantes, les doublons et la distribution des variables\n",
    "✅ Prétraiter les variables (numériques et catégoriques)\n",
    "\n",
    "2️⃣ Analyse Statistique\n",
    "✅ Étudier la distribution des patients selon les variables clés\n",
    "✅ Comparer les caractéristiques entre les survivants et les non-survivants\n",
    "✅ Tester la significativité des variables\n",
    "\n",
    "3️⃣ Modélisation (Machine Learning)\n",
    "✅ Essayer plusieurs modèles :\n",
    "\n",
    "Régression Logistique\n",
    "Random Forest\n",
    "XGBoost\n",
    "✅ Comparer les performances (AUC, précision, rappel)\n",
    "✅ Sélectionner le meilleur modèle\n",
    "4️⃣ Déploiement du Modèle\n",
    "✅ Enregistrer le modèle avec pickle\n",
    "✅ Créer une API avec Flask pour faire des prédictions\n",
    "✅ Tester l'API en local"
   ]
  },
  {
   "cell_type": "code",
   "execution_count": 1,
   "metadata": {},
   "outputs": [],
   "source": [
    "import pandas as pd\n",
    "import numpy as np\n",
    "from sklearn.model_selection import train_test_split\n",
    "from sklearn.preprocessing import StandardScaler\n",
    "from tensorflow.keras.models import Sequential\n",
    "from tensorflow.keras.layers import Dense\n",
    "from tensorflow.keras.optimizers import Adam"
   ]
  },
  {
   "cell_type": "code",
   "execution_count": 2,
   "metadata": {},
   "outputs": [
    {
     "data": {
      "text/html": [
       "<div>\n",
       "<style scoped>\n",
       "    .dataframe tbody tr th:only-of-type {\n",
       "        vertical-align: middle;\n",
       "    }\n",
       "\n",
       "    .dataframe tbody tr th {\n",
       "        vertical-align: top;\n",
       "    }\n",
       "\n",
       "    .dataframe thead th {\n",
       "        text-align: right;\n",
       "    }\n",
       "</style>\n",
       "<table border=\"1\" class=\"dataframe\">\n",
       "  <thead>\n",
       "    <tr style=\"text-align: right;\">\n",
       "      <th></th>\n",
       "      <th>AGE</th>\n",
       "      <th>SEXE</th>\n",
       "      <th>Premiers Signe - Admission à l'hopital</th>\n",
       "      <th>Admission à l'hopital - Prise en charge medicale</th>\n",
       "      <th>Hypertension Arterielle</th>\n",
       "      <th>Diabete</th>\n",
       "      <th>Cardiopathie</th>\n",
       "      <th>hémiplégie</th>\n",
       "      <th>Paralysie faciale</th>\n",
       "      <th>Aphasie</th>\n",
       "      <th>Hémiparésie</th>\n",
       "      <th>Engagement Cerebral</th>\n",
       "      <th>Inondation Ventriculaire</th>\n",
       "      <th>Unnamed: 13</th>\n",
       "      <th>Temps de Suivi après traitement (en jours)</th>\n",
       "      <th>Evolution</th>\n",
       "    </tr>\n",
       "  </thead>\n",
       "  <tbody>\n",
       "    <tr>\n",
       "      <th>0</th>\n",
       "      <td>34</td>\n",
       "      <td>Homme</td>\n",
       "      <td>23</td>\n",
       "      <td>5</td>\n",
       "      <td>OUI</td>\n",
       "      <td>NON</td>\n",
       "      <td>NON</td>\n",
       "      <td>OUI</td>\n",
       "      <td>NON</td>\n",
       "      <td>NON</td>\n",
       "      <td>OUI</td>\n",
       "      <td>OUI</td>\n",
       "      <td>OUI</td>\n",
       "      <td>Thrombolyse</td>\n",
       "      <td>79</td>\n",
       "      <td>Deces</td>\n",
       "    </tr>\n",
       "    <tr>\n",
       "      <th>1</th>\n",
       "      <td>55</td>\n",
       "      <td>Homme</td>\n",
       "      <td>41</td>\n",
       "      <td>12</td>\n",
       "      <td>OUI</td>\n",
       "      <td>OUI</td>\n",
       "      <td>NON</td>\n",
       "      <td>OUI</td>\n",
       "      <td>OUI</td>\n",
       "      <td>OUI</td>\n",
       "      <td>OUI</td>\n",
       "      <td>OUI</td>\n",
       "      <td>OUI</td>\n",
       "      <td>Chirurgie</td>\n",
       "      <td>34</td>\n",
       "      <td>Deces</td>\n",
       "    </tr>\n",
       "    <tr>\n",
       "      <th>2</th>\n",
       "      <td>60</td>\n",
       "      <td>Homme</td>\n",
       "      <td>28</td>\n",
       "      <td>19</td>\n",
       "      <td>OUI</td>\n",
       "      <td>NON</td>\n",
       "      <td>NON</td>\n",
       "      <td>OUI</td>\n",
       "      <td>OUI</td>\n",
       "      <td>OUI</td>\n",
       "      <td>OUI</td>\n",
       "      <td>OUI</td>\n",
       "      <td>OUI</td>\n",
       "      <td>Thrombolyse</td>\n",
       "      <td>64</td>\n",
       "      <td>Deces</td>\n",
       "    </tr>\n",
       "    <tr>\n",
       "      <th>3</th>\n",
       "      <td>65</td>\n",
       "      <td>Homme</td>\n",
       "      <td>17</td>\n",
       "      <td>15</td>\n",
       "      <td>OUI</td>\n",
       "      <td>OUI</td>\n",
       "      <td>NON</td>\n",
       "      <td>OUI</td>\n",
       "      <td>OUI</td>\n",
       "      <td>NON</td>\n",
       "      <td>OUI</td>\n",
       "      <td>NON</td>\n",
       "      <td>OUI</td>\n",
       "      <td>Chirurgie</td>\n",
       "      <td>62</td>\n",
       "      <td>Deces</td>\n",
       "    </tr>\n",
       "    <tr>\n",
       "      <th>4</th>\n",
       "      <td>65</td>\n",
       "      <td>Homme</td>\n",
       "      <td>17</td>\n",
       "      <td>6</td>\n",
       "      <td>NON</td>\n",
       "      <td>NON</td>\n",
       "      <td>NON</td>\n",
       "      <td>OUI</td>\n",
       "      <td>OUI</td>\n",
       "      <td>OUI</td>\n",
       "      <td>OUI</td>\n",
       "      <td>OUI</td>\n",
       "      <td>OUI</td>\n",
       "      <td>Thrombolyse</td>\n",
       "      <td>12</td>\n",
       "      <td>Deces</td>\n",
       "    </tr>\n",
       "  </tbody>\n",
       "</table>\n",
       "</div>"
      ],
      "text/plain": [
       "   AGE   SEXE  Premiers Signe - Admission à l'hopital  \\\n",
       "0   34  Homme                                      23   \n",
       "1   55  Homme                                      41   \n",
       "2   60  Homme                                      28   \n",
       "3   65  Homme                                      17   \n",
       "4   65  Homme                                      17   \n",
       "\n",
       "    Admission à l'hopital - Prise en charge medicale Hypertension Arterielle  \\\n",
       "0                                                  5                     OUI   \n",
       "1                                                 12                     OUI   \n",
       "2                                                 19                     OUI   \n",
       "3                                                 15                     OUI   \n",
       "4                                                  6                     NON   \n",
       "\n",
       "  Diabete Cardiopathie hémiplégie Paralysie faciale Aphasie Hémiparésie  \\\n",
       "0     NON          NON        OUI               NON     NON         OUI   \n",
       "1     OUI          NON        OUI               OUI     OUI         OUI   \n",
       "2     NON          NON        OUI               OUI     OUI         OUI   \n",
       "3     OUI          NON        OUI               OUI     NON         OUI   \n",
       "4     NON          NON        OUI               OUI     OUI         OUI   \n",
       "\n",
       "  Engagement Cerebral Inondation Ventriculaire  Unnamed: 13  \\\n",
       "0                 OUI                      OUI  Thrombolyse   \n",
       "1                 OUI                      OUI    Chirurgie   \n",
       "2                 OUI                      OUI  Thrombolyse   \n",
       "3                 NON                      OUI    Chirurgie   \n",
       "4                 OUI                      OUI  Thrombolyse   \n",
       "\n",
       "   Temps de Suivi après traitement (en jours) Evolution  \n",
       "0                                          79     Deces  \n",
       "1                                          34     Deces  \n",
       "2                                          64     Deces  \n",
       "3                                          62     Deces  \n",
       "4                                          12     Deces  "
      ]
     },
     "execution_count": 2,
     "metadata": {},
     "output_type": "execute_result"
    }
   ],
   "source": [
    "base = \"C:/Users/AMADOUBA/Desktop/Master2 SID/Biostatistique/ExamenBiostatistique/Donnnées_Projet_M2SID2023_2024_prep.xlsx\"\n",
    "xls = pd.ExcelFile(base)\n",
    "# Charger les données de la feuille Feuil1\n",
    "df = xls.parse(\"Feuil1\")\n",
    "\n",
    "# Afficher un aperçu des premières lignes\n",
    "df.head()"
   ]
  },
  {
   "cell_type": "code",
   "execution_count": 4,
   "metadata": {},
   "outputs": [
    {
     "name": "stdout",
     "output_type": "stream",
     "text": [
      "Index(['AGE', 'SEXE', 'Premiers Signe - Admission à l'hopital',\n",
      "       ' Admission à l'hopital - Prise en charge medicale',\n",
      "       'Hypertension Arterielle', 'Diabete', 'Cardiopathie', 'hémiplégie',\n",
      "       'Paralysie faciale', 'Aphasie', 'Hémiparésie', 'Engagement Cerebral',\n",
      "       'Inondation Ventriculaire', 'Unnamed: 13',\n",
      "       'Temps de Suivi après traitement (en jours)', 'Evolution'],\n",
      "      dtype='object')\n"
     ]
    }
   ],
   "source": [
    "print(df.columns)"
   ]
  },
  {
   "cell_type": "code",
   "execution_count": 5,
   "metadata": {},
   "outputs": [
    {
     "name": "stdout",
     "output_type": "stream",
     "text": [
      "Index(['AGE', 'SEXE', 'Premiers_Signe_-_Admission_à_l'hopital',\n",
      "       'Admission_à_l'hopital_-_Prise_en_charge_medicale',\n",
      "       'Hypertension_Arterielle', 'Diabete', 'Cardiopathie', 'hémiplégie',\n",
      "       'Paralysie_faciale', 'Aphasie', 'Hémiparésie', 'Engagement_Cerebral',\n",
      "       'Inondation_Ventriculaire', 'Unnamed:_13',\n",
      "       'Temps_de_Suivi_après_traitement_(en_jours)', 'Evolution'],\n",
      "      dtype='object')\n"
     ]
    }
   ],
   "source": [
    "df.columns = df.columns.str.strip().str.replace(\" \", \"_\")\n",
    "print(df.columns)  # Vérifier les nouveaux noms\n"
   ]
  },
  {
   "cell_type": "code",
   "execution_count": 6,
   "metadata": {},
   "outputs": [],
   "source": [
    "import pandas as pd\n",
    "import numpy as np\n",
    "from sklearn.model_selection import train_test_split\n",
    "from sklearn.preprocessing import LabelEncoder, StandardScaler\n",
    "cols_to_encode = [\"SEXE\", \"Hypertension_Arterielle\", \"Diabete\", \"Cardiopathie\", \n",
    "                  \"hémiplégie\", \"Paralysie_faciale\", \"Aphasie\", \"Hémiparésie\", \n",
    "                  \"Engagement_Cerebral\", \"Inondation_Ventriculaire\", \"Evolution\"]\n",
    "\n",
    "encoder = LabelEncoder()\n",
    "for col in cols_to_encode:\n",
    "    if col in df.columns:  \n",
    "        df[col] = encoder.fit_transform(df[col])"
   ]
  },
  {
   "cell_type": "code",
   "execution_count": 8,
   "metadata": {},
   "outputs": [
    {
     "name": "stdout",
     "output_type": "stream",
     "text": [
      "   AGE  SEXE  Premiers_Signe_-_Admission_à_l'hopital  \\\n",
      "0   34     1                                      23   \n",
      "1   55     1                                      41   \n",
      "2   60     1                                      28   \n",
      "3   65     1                                      17   \n",
      "4   65     1                                      17   \n",
      "\n",
      "   Admission_à_l'hopital_-_Prise_en_charge_medicale  Hypertension_Arterielle  \\\n",
      "0                                                 5                        1   \n",
      "1                                                12                        1   \n",
      "2                                                19                        1   \n",
      "3                                                15                        1   \n",
      "4                                                 6                        0   \n",
      "\n",
      "   Diabete  Cardiopathie  hémiplégie  Paralysie_faciale  Aphasie  Hémiparésie  \\\n",
      "0        0             0           1                  0        0            1   \n",
      "1        1             0           1                  1        1            1   \n",
      "2        0             0           1                  1        1            1   \n",
      "3        1             0           1                  1        0            1   \n",
      "4        0             0           1                  1        1            1   \n",
      "\n",
      "   Engagement_Cerebral  Inondation_Ventriculaire  Unnamed:_13  \\\n",
      "0                    1                         1  Thrombolyse   \n",
      "1                    1                         1    Chirurgie   \n",
      "2                    1                         1  Thrombolyse   \n",
      "3                    0                         1    Chirurgie   \n",
      "4                    1                         1  Thrombolyse   \n",
      "\n",
      "   Temps_de_Suivi_après_traitement_(en_jours)  Evolution  \n",
      "0                                          79          0  \n",
      "1                                          34          0  \n",
      "2                                          64          0  \n",
      "3                                          62          0  \n",
      "4                                          12          0  \n"
     ]
    }
   ],
   "source": [
    "pd.set_option('display.max_columns', None)\n",
    "print(df.head())\n"
   ]
  },
  {
   "cell_type": "code",
   "execution_count": 9,
   "metadata": {},
   "outputs": [
    {
     "name": "stdout",
     "output_type": "stream",
     "text": [
      "AGE                                                 0\n",
      "SEXE                                                0\n",
      "Premiers_Signe_-_Admission_à_l'hopital              0\n",
      "Admission_à_l'hopital_-_Prise_en_charge_medicale    0\n",
      "Hypertension_Arterielle                             0\n",
      "Diabete                                             0\n",
      "Cardiopathie                                        0\n",
      "hémiplégie                                          0\n",
      "Paralysie_faciale                                   0\n",
      "Aphasie                                             0\n",
      "Hémiparésie                                         0\n",
      "Engagement_Cerebral                                 0\n",
      "Inondation_Ventriculaire                            0\n",
      "Unnamed:_13                                         0\n",
      "Temps_de_Suivi_après_traitement_(en_jours)          0\n",
      "Evolution                                           0\n",
      "dtype: int64\n"
     ]
    }
   ],
   "source": [
    "# Affiche le nombre de valeurs manquantes par colonne\n",
    "print(df.isnull().sum())\n"
   ]
  },
  {
   "cell_type": "code",
   "execution_count": 10,
   "metadata": {},
   "outputs": [],
   "source": [
    "# Séparation des données\n",
    "X = df.drop('Evolution', axis=1)  # Variables indépendantes\n",
    "y = df['Evolution']  # Variable cible\n"
   ]
  },
  {
   "cell_type": "code",
   "execution_count": 11,
   "metadata": {},
   "outputs": [],
   "source": [
    "from sklearn.model_selection import train_test_split\n",
    "\n",
    "# Séparation des données en 80% pour l'entraînement et 20% pour le test\n",
    "X_train, X_test, y_train, y_test = train_test_split(X, y, test_size=0.2, random_state=42)\n"
   ]
  },
  {
   "cell_type": "code",
   "execution_count": 12,
   "metadata": {},
   "outputs": [],
   "source": [
    "import tensorflow as tf"
   ]
  },
  {
   "cell_type": "code",
   "execution_count": 13,
   "metadata": {},
   "outputs": [
    {
     "name": "stderr",
     "output_type": "stream",
     "text": [
      "c:\\Users\\AMADOUBA\\AppData\\Local\\Programs\\Python\\Python310\\lib\\site-packages\\keras\\src\\layers\\core\\dense.py:87: UserWarning: Do not pass an `input_shape`/`input_dim` argument to a layer. When using Sequential models, prefer using an `Input(shape)` object as the first layer in the model instead.\n",
      "  super().__init__(activity_regularizer=activity_regularizer, **kwargs)\n"
     ]
    },
    {
     "data": {
      "text/html": [
       "<pre style=\"white-space:pre;overflow-x:auto;line-height:normal;font-family:Menlo,'DejaVu Sans Mono',consolas,'Courier New',monospace\"><span style=\"font-weight: bold\">Model: \"sequential\"</span>\n",
       "</pre>\n"
      ],
      "text/plain": [
       "\u001b[1mModel: \"sequential\"\u001b[0m\n"
      ]
     },
     "metadata": {},
     "output_type": "display_data"
    },
    {
     "data": {
      "text/html": [
       "<pre style=\"white-space:pre;overflow-x:auto;line-height:normal;font-family:Menlo,'DejaVu Sans Mono',consolas,'Courier New',monospace\">┏━━━━━━━━━━━━━━━━━━━━━━━━━━━━━━━━━┳━━━━━━━━━━━━━━━━━━━━━━━━┳━━━━━━━━━━━━━━━┓\n",
       "┃<span style=\"font-weight: bold\"> Layer (type)                    </span>┃<span style=\"font-weight: bold\"> Output Shape           </span>┃<span style=\"font-weight: bold\">       Param # </span>┃\n",
       "┡━━━━━━━━━━━━━━━━━━━━━━━━━━━━━━━━━╇━━━━━━━━━━━━━━━━━━━━━━━━╇━━━━━━━━━━━━━━━┩\n",
       "│ dense (<span style=\"color: #0087ff; text-decoration-color: #0087ff\">Dense</span>)                   │ (<span style=\"color: #00d7ff; text-decoration-color: #00d7ff\">None</span>, <span style=\"color: #00af00; text-decoration-color: #00af00\">64</span>)             │         <span style=\"color: #00af00; text-decoration-color: #00af00\">1,024</span> │\n",
       "├─────────────────────────────────┼────────────────────────┼───────────────┤\n",
       "│ dense_1 (<span style=\"color: #0087ff; text-decoration-color: #0087ff\">Dense</span>)                 │ (<span style=\"color: #00d7ff; text-decoration-color: #00d7ff\">None</span>, <span style=\"color: #00af00; text-decoration-color: #00af00\">64</span>)             │         <span style=\"color: #00af00; text-decoration-color: #00af00\">4,160</span> │\n",
       "├─────────────────────────────────┼────────────────────────┼───────────────┤\n",
       "│ dense_2 (<span style=\"color: #0087ff; text-decoration-color: #0087ff\">Dense</span>)                 │ (<span style=\"color: #00d7ff; text-decoration-color: #00d7ff\">None</span>, <span style=\"color: #00af00; text-decoration-color: #00af00\">1</span>)              │            <span style=\"color: #00af00; text-decoration-color: #00af00\">65</span> │\n",
       "└─────────────────────────────────┴────────────────────────┴───────────────┘\n",
       "</pre>\n"
      ],
      "text/plain": [
       "┏━━━━━━━━━━━━━━━━━━━━━━━━━━━━━━━━━┳━━━━━━━━━━━━━━━━━━━━━━━━┳━━━━━━━━━━━━━━━┓\n",
       "┃\u001b[1m \u001b[0m\u001b[1mLayer (type)                   \u001b[0m\u001b[1m \u001b[0m┃\u001b[1m \u001b[0m\u001b[1mOutput Shape          \u001b[0m\u001b[1m \u001b[0m┃\u001b[1m \u001b[0m\u001b[1m      Param #\u001b[0m\u001b[1m \u001b[0m┃\n",
       "┡━━━━━━━━━━━━━━━━━━━━━━━━━━━━━━━━━╇━━━━━━━━━━━━━━━━━━━━━━━━╇━━━━━━━━━━━━━━━┩\n",
       "│ dense (\u001b[38;5;33mDense\u001b[0m)                   │ (\u001b[38;5;45mNone\u001b[0m, \u001b[38;5;34m64\u001b[0m)             │         \u001b[38;5;34m1,024\u001b[0m │\n",
       "├─────────────────────────────────┼────────────────────────┼───────────────┤\n",
       "│ dense_1 (\u001b[38;5;33mDense\u001b[0m)                 │ (\u001b[38;5;45mNone\u001b[0m, \u001b[38;5;34m64\u001b[0m)             │         \u001b[38;5;34m4,160\u001b[0m │\n",
       "├─────────────────────────────────┼────────────────────────┼───────────────┤\n",
       "│ dense_2 (\u001b[38;5;33mDense\u001b[0m)                 │ (\u001b[38;5;45mNone\u001b[0m, \u001b[38;5;34m1\u001b[0m)              │            \u001b[38;5;34m65\u001b[0m │\n",
       "└─────────────────────────────────┴────────────────────────┴───────────────┘\n"
      ]
     },
     "metadata": {},
     "output_type": "display_data"
    },
    {
     "data": {
      "text/html": [
       "<pre style=\"white-space:pre;overflow-x:auto;line-height:normal;font-family:Menlo,'DejaVu Sans Mono',consolas,'Courier New',monospace\"><span style=\"font-weight: bold\"> Total params: </span><span style=\"color: #00af00; text-decoration-color: #00af00\">5,249</span> (20.50 KB)\n",
       "</pre>\n"
      ],
      "text/plain": [
       "\u001b[1m Total params: \u001b[0m\u001b[38;5;34m5,249\u001b[0m (20.50 KB)\n"
      ]
     },
     "metadata": {},
     "output_type": "display_data"
    },
    {
     "data": {
      "text/html": [
       "<pre style=\"white-space:pre;overflow-x:auto;line-height:normal;font-family:Menlo,'DejaVu Sans Mono',consolas,'Courier New',monospace\"><span style=\"font-weight: bold\"> Trainable params: </span><span style=\"color: #00af00; text-decoration-color: #00af00\">5,249</span> (20.50 KB)\n",
       "</pre>\n"
      ],
      "text/plain": [
       "\u001b[1m Trainable params: \u001b[0m\u001b[38;5;34m5,249\u001b[0m (20.50 KB)\n"
      ]
     },
     "metadata": {},
     "output_type": "display_data"
    },
    {
     "data": {
      "text/html": [
       "<pre style=\"white-space:pre;overflow-x:auto;line-height:normal;font-family:Menlo,'DejaVu Sans Mono',consolas,'Courier New',monospace\"><span style=\"font-weight: bold\"> Non-trainable params: </span><span style=\"color: #00af00; text-decoration-color: #00af00\">0</span> (0.00 B)\n",
       "</pre>\n"
      ],
      "text/plain": [
       "\u001b[1m Non-trainable params: \u001b[0m\u001b[38;5;34m0\u001b[0m (0.00 B)\n"
      ]
     },
     "metadata": {},
     "output_type": "display_data"
    }
   ],
   "source": [
    "import tensorflow as tf\n",
    "from tensorflow.keras.models import Sequential\n",
    "from tensorflow.keras.layers import Dense\n",
    "from tensorflow.keras.optimizers import Adam\n",
    "\n",
    "# Créer un modèle séquentiel\n",
    "model = Sequential()\n",
    "\n",
    "# Ajouter la première couche cachée avec 64 neurones et la fonction d'activation ReLU\n",
    "model.add(Dense(64, input_dim=X_train.shape[1], activation='relu'))\n",
    "\n",
    "# Ajouter une autre couche cachée\n",
    "model.add(Dense(64, activation='relu'))\n",
    "\n",
    "# Ajouter la couche de sortie avec une activation sigmoid (car c'est un problème de classification binaire)\n",
    "model.add(Dense(1, activation='sigmoid'))\n",
    "\n",
    "# Compiler le modèle avec un optimiseur Adam et une fonction de perte binaire\n",
    "model.compile(optimizer=Adam(), loss='binary_crossentropy', metrics=['accuracy'])\n",
    "\n",
    "# Afficher un résumé du modèle\n",
    "model.summary()\n"
   ]
  },
  {
   "cell_type": "code",
   "execution_count": 16,
   "metadata": {},
   "outputs": [
    {
     "name": "stdout",
     "output_type": "stream",
     "text": [
      "AGE                                                  int64\n",
      "SEXE                                                 int64\n",
      "Premiers_Signe_-_Admission_à_l'hopital               int64\n",
      "Admission_à_l'hopital_-_Prise_en_charge_medicale     int64\n",
      "Hypertension_Arterielle                              int64\n",
      "Diabete                                              int64\n",
      "Cardiopathie                                         int64\n",
      "hémiplégie                                           int64\n",
      "Paralysie_faciale                                    int64\n",
      "Aphasie                                              int64\n",
      "Hémiparésie                                          int64\n",
      "Engagement_Cerebral                                  int64\n",
      "Inondation_Ventriculaire                             int64\n",
      "Unnamed:_13                                         object\n",
      "Temps_de_Suivi_après_traitement_(en_jours)           int64\n",
      "dtype: object\n"
     ]
    }
   ],
   "source": [
    "print(X_train.dtypes)\n"
   ]
  },
  {
   "cell_type": "code",
   "execution_count": 21,
   "metadata": {},
   "outputs": [],
   "source": [
    "X_train = X_train.astype('float32')\n",
    "X_test = X_test.astype('float32')\n",
    "\n"
   ]
  },
  {
   "cell_type": "code",
   "execution_count": 22,
   "metadata": {},
   "outputs": [
    {
     "name": "stdout",
     "output_type": "stream",
     "text": [
      "AGE                                                 float32\n",
      "SEXE                                                float32\n",
      "Premiers_Signe_-_Admission_à_l'hopital              float32\n",
      "Admission_à_l'hopital_-_Prise_en_charge_medicale    float32\n",
      "Hypertension_Arterielle                             float32\n",
      "Diabete                                             float32\n",
      "Cardiopathie                                        float32\n",
      "hémiplégie                                          float32\n",
      "Paralysie_faciale                                   float32\n",
      "Aphasie                                             float32\n",
      "Hémiparésie                                         float32\n",
      "Engagement_Cerebral                                 float32\n",
      "Inondation_Ventriculaire                            float32\n",
      "Temps_de_Suivi_après_traitement_(en_jours)          float32\n",
      "dtype: object\n"
     ]
    }
   ],
   "source": [
    "print(X_train.dtypes)"
   ]
  },
  {
   "cell_type": "code",
   "execution_count": 24,
   "metadata": {},
   "outputs": [
    {
     "name": "stdout",
     "output_type": "stream",
     "text": [
      "(842, 14)\n",
      "(211, 14)\n"
     ]
    }
   ],
   "source": [
    "print(X_train.shape)\n",
    "print(X_test.shape)\n"
   ]
  },
  {
   "cell_type": "code",
   "execution_count": 26,
   "metadata": {},
   "outputs": [
    {
     "name": "stdout",
     "output_type": "stream",
     "text": [
      "(842,)\n",
      "(211,)\n"
     ]
    }
   ],
   "source": [
    "print(y_train.shape)\n",
    "print(y_test.shape)\n"
   ]
  },
  {
   "cell_type": "code",
   "execution_count": 27,
   "metadata": {},
   "outputs": [
    {
     "name": "stdout",
     "output_type": "stream",
     "text": [
      "int64\n",
      "int64\n"
     ]
    }
   ],
   "source": [
    "print(y_train.dtype)\n",
    "print(y_test.dtype)"
   ]
  },
  {
   "cell_type": "code",
   "execution_count": 28,
   "metadata": {},
   "outputs": [],
   "source": [
    "y_train = y_train.astype('float32')\n",
    "y_test = y_test.astype('float32')"
   ]
  },
  {
   "cell_type": "code",
   "execution_count": 29,
   "metadata": {},
   "outputs": [
    {
     "name": "stdout",
     "output_type": "stream",
     "text": [
      "Epoch 1/50\n"
     ]
    },
    {
     "name": "stderr",
     "output_type": "stream",
     "text": [
      "c:\\Users\\AMADOUBA\\AppData\\Local\\Programs\\Python\\Python310\\lib\\site-packages\\keras\\src\\layers\\core\\dense.py:87: UserWarning: Do not pass an `input_shape`/`input_dim` argument to a layer. When using Sequential models, prefer using an `Input(shape)` object as the first layer in the model instead.\n",
      "  super().__init__(activity_regularizer=activity_regularizer, **kwargs)\n"
     ]
    },
    {
     "name": "stdout",
     "output_type": "stream",
     "text": [
      "\u001b[1m27/27\u001b[0m \u001b[32m━━━━━━━━━━━━━━━━━━━━\u001b[0m\u001b[37m\u001b[0m \u001b[1m5s\u001b[0m 32ms/step - accuracy: 0.5753 - loss: 1.8152 - val_accuracy: 0.9526 - val_loss: 0.1403\n",
      "Epoch 2/50\n",
      "\u001b[1m27/27\u001b[0m \u001b[32m━━━━━━━━━━━━━━━━━━━━\u001b[0m\u001b[37m\u001b[0m \u001b[1m1s\u001b[0m 9ms/step - accuracy: 0.9252 - loss: 0.1902 - val_accuracy: 0.9858 - val_loss: 0.0664\n",
      "Epoch 3/50\n",
      "\u001b[1m27/27\u001b[0m \u001b[32m━━━━━━━━━━━━━━━━━━━━\u001b[0m\u001b[37m\u001b[0m \u001b[1m0s\u001b[0m 7ms/step - accuracy: 0.9857 - loss: 0.0666 - val_accuracy: 0.9858 - val_loss: 0.0471\n",
      "Epoch 4/50\n",
      "\u001b[1m27/27\u001b[0m \u001b[32m━━━━━━━━━━━━━━━━━━━━\u001b[0m\u001b[37m\u001b[0m \u001b[1m0s\u001b[0m 7ms/step - accuracy: 0.9849 - loss: 0.0513 - val_accuracy: 0.9953 - val_loss: 0.0407\n",
      "Epoch 5/50\n",
      "\u001b[1m27/27\u001b[0m \u001b[32m━━━━━━━━━━━━━━━━━━━━\u001b[0m\u001b[37m\u001b[0m \u001b[1m0s\u001b[0m 7ms/step - accuracy: 0.9800 - loss: 0.0536 - val_accuracy: 0.9858 - val_loss: 0.0354\n",
      "Epoch 6/50\n",
      "\u001b[1m27/27\u001b[0m \u001b[32m━━━━━━━━━━━━━━━━━━━━\u001b[0m\u001b[37m\u001b[0m \u001b[1m0s\u001b[0m 8ms/step - accuracy: 0.9872 - loss: 0.0372 - val_accuracy: 0.9905 - val_loss: 0.0384\n",
      "Epoch 7/50\n",
      "\u001b[1m27/27\u001b[0m \u001b[32m━━━━━━━━━━━━━━━━━━━━\u001b[0m\u001b[37m\u001b[0m \u001b[1m0s\u001b[0m 8ms/step - accuracy: 0.9858 - loss: 0.0562 - val_accuracy: 0.9953 - val_loss: 0.0323\n",
      "Epoch 8/50\n",
      "\u001b[1m27/27\u001b[0m \u001b[32m━━━━━━━━━━━━━━━━━━━━\u001b[0m\u001b[37m\u001b[0m \u001b[1m0s\u001b[0m 8ms/step - accuracy: 0.9851 - loss: 0.0439 - val_accuracy: 0.9905 - val_loss: 0.0361\n",
      "Epoch 9/50\n",
      "\u001b[1m27/27\u001b[0m \u001b[32m━━━━━━━━━━━━━━━━━━━━\u001b[0m\u001b[37m\u001b[0m \u001b[1m0s\u001b[0m 12ms/step - accuracy: 0.9898 - loss: 0.0444 - val_accuracy: 0.9763 - val_loss: 0.0556\n",
      "Epoch 10/50\n",
      "\u001b[1m27/27\u001b[0m \u001b[32m━━━━━━━━━━━━━━━━━━━━\u001b[0m\u001b[37m\u001b[0m \u001b[1m0s\u001b[0m 13ms/step - accuracy: 0.9856 - loss: 0.0480 - val_accuracy: 0.9905 - val_loss: 0.0276\n",
      "Epoch 11/50\n",
      "\u001b[1m27/27\u001b[0m \u001b[32m━━━━━━━━━━━━━━━━━━━━\u001b[0m\u001b[37m\u001b[0m \u001b[1m0s\u001b[0m 11ms/step - accuracy: 0.9899 - loss: 0.0439 - val_accuracy: 0.9953 - val_loss: 0.0307\n",
      "Epoch 12/50\n",
      "\u001b[1m27/27\u001b[0m \u001b[32m━━━━━━━━━━━━━━━━━━━━\u001b[0m\u001b[37m\u001b[0m \u001b[1m0s\u001b[0m 11ms/step - accuracy: 0.9799 - loss: 0.0477 - val_accuracy: 0.9858 - val_loss: 0.0270\n",
      "Epoch 13/50\n",
      "\u001b[1m27/27\u001b[0m \u001b[32m━━━━━━━━━━━━━━━━━━━━\u001b[0m\u001b[37m\u001b[0m \u001b[1m1s\u001b[0m 10ms/step - accuracy: 0.9888 - loss: 0.0362 - val_accuracy: 0.9905 - val_loss: 0.0418\n",
      "Epoch 14/50\n",
      "\u001b[1m27/27\u001b[0m \u001b[32m━━━━━━━━━━━━━━━━━━━━\u001b[0m\u001b[37m\u001b[0m \u001b[1m0s\u001b[0m 9ms/step - accuracy: 0.9844 - loss: 0.0364 - val_accuracy: 0.9953 - val_loss: 0.0282\n",
      "Epoch 15/50\n",
      "\u001b[1m27/27\u001b[0m \u001b[32m━━━━━━━━━━━━━━━━━━━━\u001b[0m\u001b[37m\u001b[0m \u001b[1m0s\u001b[0m 10ms/step - accuracy: 0.9837 - loss: 0.0402 - val_accuracy: 0.9858 - val_loss: 0.0236\n",
      "Epoch 16/50\n",
      "\u001b[1m27/27\u001b[0m \u001b[32m━━━━━━━━━━━━━━━━━━━━\u001b[0m\u001b[37m\u001b[0m \u001b[1m0s\u001b[0m 9ms/step - accuracy: 0.9923 - loss: 0.0306 - val_accuracy: 0.9953 - val_loss: 0.0252\n",
      "Epoch 17/50\n",
      "\u001b[1m27/27\u001b[0m \u001b[32m━━━━━━━━━━━━━━━━━━━━\u001b[0m\u001b[37m\u001b[0m \u001b[1m0s\u001b[0m 9ms/step - accuracy: 0.9890 - loss: 0.0337 - val_accuracy: 0.9858 - val_loss: 0.0252\n",
      "Epoch 18/50\n",
      "\u001b[1m27/27\u001b[0m \u001b[32m━━━━━━━━━━━━━━━━━━━━\u001b[0m\u001b[37m\u001b[0m \u001b[1m0s\u001b[0m 8ms/step - accuracy: 0.9896 - loss: 0.0339 - val_accuracy: 0.9858 - val_loss: 0.0375\n",
      "Epoch 19/50\n",
      "\u001b[1m27/27\u001b[0m \u001b[32m━━━━━━━━━━━━━━━━━━━━\u001b[0m\u001b[37m\u001b[0m \u001b[1m0s\u001b[0m 7ms/step - accuracy: 0.9914 - loss: 0.0536 - val_accuracy: 0.9953 - val_loss: 0.0264\n",
      "Epoch 20/50\n",
      "\u001b[1m27/27\u001b[0m \u001b[32m━━━━━━━━━━━━━━━━━━━━\u001b[0m\u001b[37m\u001b[0m \u001b[1m0s\u001b[0m 10ms/step - accuracy: 0.9924 - loss: 0.0284 - val_accuracy: 0.9858 - val_loss: 0.0234\n",
      "Epoch 21/50\n",
      "\u001b[1m27/27\u001b[0m \u001b[32m━━━━━━━━━━━━━━━━━━━━\u001b[0m\u001b[37m\u001b[0m \u001b[1m0s\u001b[0m 9ms/step - accuracy: 0.9816 - loss: 0.0352 - val_accuracy: 0.9905 - val_loss: 0.0396\n",
      "Epoch 22/50\n",
      "\u001b[1m27/27\u001b[0m \u001b[32m━━━━━━━━━━━━━━━━━━━━\u001b[0m\u001b[37m\u001b[0m \u001b[1m0s\u001b[0m 10ms/step - accuracy: 0.9844 - loss: 0.0391 - val_accuracy: 0.9668 - val_loss: 0.0534\n",
      "Epoch 23/50\n",
      "\u001b[1m27/27\u001b[0m \u001b[32m━━━━━━━━━━━━━━━━━━━━\u001b[0m\u001b[37m\u001b[0m \u001b[1m0s\u001b[0m 11ms/step - accuracy: 0.9726 - loss: 0.0598 - val_accuracy: 0.9763 - val_loss: 0.0604\n",
      "Epoch 24/50\n",
      "\u001b[1m27/27\u001b[0m \u001b[32m━━━━━━━━━━━━━━━━━━━━\u001b[0m\u001b[37m\u001b[0m \u001b[1m0s\u001b[0m 8ms/step - accuracy: 0.9845 - loss: 0.0329 - val_accuracy: 0.9858 - val_loss: 0.0335\n",
      "Epoch 25/50\n",
      "\u001b[1m27/27\u001b[0m \u001b[32m━━━━━━━━━━━━━━━━━━━━\u001b[0m\u001b[37m\u001b[0m \u001b[1m0s\u001b[0m 10ms/step - accuracy: 0.9806 - loss: 0.0582 - val_accuracy: 0.9905 - val_loss: 0.0255\n",
      "Epoch 26/50\n",
      "\u001b[1m27/27\u001b[0m \u001b[32m━━━━━━━━━━━━━━━━━━━━\u001b[0m\u001b[37m\u001b[0m \u001b[1m0s\u001b[0m 10ms/step - accuracy: 0.9887 - loss: 0.0460 - val_accuracy: 0.9953 - val_loss: 0.0301\n",
      "Epoch 27/50\n",
      "\u001b[1m27/27\u001b[0m \u001b[32m━━━━━━━━━━━━━━━━━━━━\u001b[0m\u001b[37m\u001b[0m \u001b[1m0s\u001b[0m 7ms/step - accuracy: 0.9897 - loss: 0.0217 - val_accuracy: 0.9858 - val_loss: 0.0228\n",
      "Epoch 28/50\n",
      "\u001b[1m27/27\u001b[0m \u001b[32m━━━━━━━━━━━━━━━━━━━━\u001b[0m\u001b[37m\u001b[0m \u001b[1m0s\u001b[0m 8ms/step - accuracy: 0.9871 - loss: 0.0314 - val_accuracy: 0.9858 - val_loss: 0.0413\n",
      "Epoch 29/50\n",
      "\u001b[1m27/27\u001b[0m \u001b[32m━━━━━━━━━━━━━━━━━━━━\u001b[0m\u001b[37m\u001b[0m \u001b[1m0s\u001b[0m 8ms/step - accuracy: 0.9720 - loss: 0.1009 - val_accuracy: 0.9668 - val_loss: 0.0609\n",
      "Epoch 30/50\n",
      "\u001b[1m27/27\u001b[0m \u001b[32m━━━━━━━━━━━━━━━━━━━━\u001b[0m\u001b[37m\u001b[0m \u001b[1m0s\u001b[0m 7ms/step - accuracy: 0.9762 - loss: 0.0786 - val_accuracy: 0.9858 - val_loss: 0.0351\n",
      "Epoch 31/50\n",
      "\u001b[1m27/27\u001b[0m \u001b[32m━━━━━━━━━━━━━━━━━━━━\u001b[0m\u001b[37m\u001b[0m \u001b[1m0s\u001b[0m 7ms/step - accuracy: 0.9871 - loss: 0.0364 - val_accuracy: 0.9810 - val_loss: 0.0644\n",
      "Epoch 32/50\n",
      "\u001b[1m27/27\u001b[0m \u001b[32m━━━━━━━━━━━━━━━━━━━━\u001b[0m\u001b[37m\u001b[0m \u001b[1m0s\u001b[0m 9ms/step - accuracy: 0.9905 - loss: 0.0211 - val_accuracy: 0.9905 - val_loss: 0.0374\n",
      "Epoch 33/50\n",
      "\u001b[1m27/27\u001b[0m \u001b[32m━━━━━━━━━━━━━━━━━━━━\u001b[0m\u001b[37m\u001b[0m \u001b[1m0s\u001b[0m 7ms/step - accuracy: 0.9830 - loss: 0.0258 - val_accuracy: 0.9953 - val_loss: 0.0282\n",
      "Epoch 34/50\n",
      "\u001b[1m27/27\u001b[0m \u001b[32m━━━━━━━━━━━━━━━━━━━━\u001b[0m\u001b[37m\u001b[0m \u001b[1m0s\u001b[0m 8ms/step - accuracy: 0.9890 - loss: 0.0275 - val_accuracy: 0.9953 - val_loss: 0.0274\n",
      "Epoch 35/50\n",
      "\u001b[1m27/27\u001b[0m \u001b[32m━━━━━━━━━━━━━━━━━━━━\u001b[0m\u001b[37m\u001b[0m \u001b[1m0s\u001b[0m 8ms/step - accuracy: 0.9943 - loss: 0.0162 - val_accuracy: 0.9716 - val_loss: 0.0485\n",
      "Epoch 36/50\n",
      "\u001b[1m27/27\u001b[0m \u001b[32m━━━━━━━━━━━━━━━━━━━━\u001b[0m\u001b[37m\u001b[0m \u001b[1m0s\u001b[0m 12ms/step - accuracy: 0.9906 - loss: 0.0192 - val_accuracy: 0.9953 - val_loss: 0.0291\n",
      "Epoch 37/50\n",
      "\u001b[1m27/27\u001b[0m \u001b[32m━━━━━━━━━━━━━━━━━━━━\u001b[0m\u001b[37m\u001b[0m \u001b[1m0s\u001b[0m 8ms/step - accuracy: 0.9897 - loss: 0.0223 - val_accuracy: 0.9953 - val_loss: 0.0227\n",
      "Epoch 38/50\n",
      "\u001b[1m27/27\u001b[0m \u001b[32m━━━━━━━━━━━━━━━━━━━━\u001b[0m\u001b[37m\u001b[0m \u001b[1m0s\u001b[0m 7ms/step - accuracy: 0.9898 - loss: 0.0292 - val_accuracy: 0.9953 - val_loss: 0.0288\n",
      "Epoch 39/50\n",
      "\u001b[1m27/27\u001b[0m \u001b[32m━━━━━━━━━━━━━━━━━━━━\u001b[0m\u001b[37m\u001b[0m \u001b[1m0s\u001b[0m 8ms/step - accuracy: 0.9948 - loss: 0.0174 - val_accuracy: 0.9905 - val_loss: 0.0221\n",
      "Epoch 40/50\n",
      "\u001b[1m27/27\u001b[0m \u001b[32m━━━━━━━━━━━━━━━━━━━━\u001b[0m\u001b[37m\u001b[0m \u001b[1m0s\u001b[0m 9ms/step - accuracy: 0.9924 - loss: 0.0181 - val_accuracy: 0.9953 - val_loss: 0.0227\n",
      "Epoch 41/50\n",
      "\u001b[1m27/27\u001b[0m \u001b[32m━━━━━━━━━━━━━━━━━━━━\u001b[0m\u001b[37m\u001b[0m \u001b[1m0s\u001b[0m 8ms/step - accuracy: 0.9849 - loss: 0.0317 - val_accuracy: 0.9953 - val_loss: 0.0228\n",
      "Epoch 42/50\n",
      "\u001b[1m27/27\u001b[0m \u001b[32m━━━━━━━━━━━━━━━━━━━━\u001b[0m\u001b[37m\u001b[0m \u001b[1m0s\u001b[0m 9ms/step - accuracy: 0.9963 - loss: 0.0110 - val_accuracy: 0.9953 - val_loss: 0.0241\n",
      "Epoch 43/50\n",
      "\u001b[1m27/27\u001b[0m \u001b[32m━━━━━━━━━━━━━━━━━━━━\u001b[0m\u001b[37m\u001b[0m \u001b[1m0s\u001b[0m 9ms/step - accuracy: 0.9796 - loss: 0.0379 - val_accuracy: 0.9905 - val_loss: 0.0216\n",
      "Epoch 44/50\n",
      "\u001b[1m27/27\u001b[0m \u001b[32m━━━━━━━━━━━━━━━━━━━━\u001b[0m\u001b[37m\u001b[0m \u001b[1m0s\u001b[0m 9ms/step - accuracy: 0.9911 - loss: 0.0181 - val_accuracy: 0.9953 - val_loss: 0.0272\n",
      "Epoch 45/50\n",
      "\u001b[1m27/27\u001b[0m \u001b[32m━━━━━━━━━━━━━━━━━━━━\u001b[0m\u001b[37m\u001b[0m \u001b[1m0s\u001b[0m 8ms/step - accuracy: 0.9944 - loss: 0.0233 - val_accuracy: 0.9905 - val_loss: 0.0259\n",
      "Epoch 46/50\n",
      "\u001b[1m27/27\u001b[0m \u001b[32m━━━━━━━━━━━━━━━━━━━━\u001b[0m\u001b[37m\u001b[0m \u001b[1m0s\u001b[0m 7ms/step - accuracy: 0.9905 - loss: 0.0350 - val_accuracy: 0.9953 - val_loss: 0.0324\n",
      "Epoch 47/50\n",
      "\u001b[1m27/27\u001b[0m \u001b[32m━━━━━━━━━━━━━━━━━━━━\u001b[0m\u001b[37m\u001b[0m \u001b[1m0s\u001b[0m 9ms/step - accuracy: 0.9896 - loss: 0.0226 - val_accuracy: 0.9953 - val_loss: 0.0231\n",
      "Epoch 48/50\n",
      "\u001b[1m27/27\u001b[0m \u001b[32m━━━━━━━━━━━━━━━━━━━━\u001b[0m\u001b[37m\u001b[0m \u001b[1m0s\u001b[0m 7ms/step - accuracy: 0.9881 - loss: 0.0288 - val_accuracy: 0.9953 - val_loss: 0.0224\n",
      "Epoch 49/50\n",
      "\u001b[1m27/27\u001b[0m \u001b[32m━━━━━━━━━━━━━━━━━━━━\u001b[0m\u001b[37m\u001b[0m \u001b[1m0s\u001b[0m 7ms/step - accuracy: 0.9812 - loss: 0.0591 - val_accuracy: 0.9716 - val_loss: 0.0533\n",
      "Epoch 50/50\n",
      "\u001b[1m27/27\u001b[0m \u001b[32m━━━━━━━━━━━━━━━━━━━━\u001b[0m\u001b[37m\u001b[0m \u001b[1m0s\u001b[0m 9ms/step - accuracy: 0.9970 - loss: 0.0112 - val_accuracy: 0.9953 - val_loss: 0.0280\n"
     ]
    }
   ],
   "source": [
    "# Étape 1: Conversion des types de données\n",
    "y_train = y_train.astype('float32')\n",
    "y_test = y_test.astype('float32')\n",
    "\n",
    "# Étape 2: Définition du modèle\n",
    "model = Sequential([\n",
    "    Dense(64, activation='relu', input_dim=X_train.shape[1]),\n",
    "    Dense(64, activation='relu'),\n",
    "    Dense(1, activation='sigmoid')  # Sortie pour classification binaire\n",
    "])\n",
    "\n",
    "# Étape 3: Compilation du modèle\n",
    "model.compile(optimizer='adam', loss='binary_crossentropy', metrics=['accuracy'])\n",
    "\n",
    "# Étape 4: Entraînement du modèle\n",
    "history = model.fit(X_train, y_train, epochs=50, batch_size=32, validation_data=(X_test, y_test))\n"
   ]
  },
  {
   "cell_type": "markdown",
   "metadata": {},
   "source": [
    "Voici un résumé des résultats de l'entraînement sur les 50 époques :\n",
    "\n",
    "Précision sur les données d'entraînement (accuracy) : Elle commence autour de 57,5% (époque 1) et monte progressivement pour atteindre 99,7% à la fin de l'entraînement.\n",
    "Précision sur les données de validation (val_accuracy) : Elle reste assez élevée tout au long de l'entraînement, atteignant environ 99,5% à la fin, ce qui suggère que le modèle généralise bien sur les données de validation.\n",
    "Perte sur les données d'entraînement (loss) : La perte a diminué au fil des époques, passant de 1,815 à 0,011, indiquant que le modèle est bien optimisé.\n",
    "Perte sur les données de validation (val_loss) : La perte sur la validation a également diminué et s'est stabilisée vers 0,03, ce qui montre une bonne capacité de généralisation."
   ]
  },
  {
   "cell_type": "code",
   "execution_count": 30,
   "metadata": {},
   "outputs": [
    {
     "name": "stdout",
     "output_type": "stream",
     "text": [
      "\u001b[1m7/7\u001b[0m \u001b[32m━━━━━━━━━━━━━━━━━━━━\u001b[0m\u001b[37m\u001b[0m \u001b[1m0s\u001b[0m 11ms/step - accuracy: 0.9974 - loss: 0.0233\n",
      "Test Accuracy: 0.9952606558799744\n",
      "Test Loss: 0.027966227382421494\n"
     ]
    }
   ],
   "source": [
    "test_loss, test_accuracy = model.evaluate(X_test, y_test)\n",
    "print(f\"Test Accuracy: {test_accuracy}\")\n",
    "print(f\"Test Loss: {test_loss}\")\n"
   ]
  },
  {
   "cell_type": "markdown",
   "metadata": {},
   "source": [
    "Test Accuracy : 99,53% : Le modèle a une précision très élevée sur le jeu de test, ce qui est un excellent résultat. Cela signifie qu'il fait une prédiction correcte dans presque 100% des cas sur les nouvelles données qu'il n'a jamais vues.\n",
    "Test Loss : 0,028 : La perte sur le jeu de test est faible, ce qui montre que le modèle a bien généralisé et que ses prédictions sont proches des valeurs réelles.\n",
    "Cela suggère que votre modèle est bien entraîné et capable de faire des prédictions de qualité. Si vous souhaitez aller plus loin, vous pouvez essayer des techniques comme l'optimisation des hyperparamètres, ou même l'explication des prédictions avec des méthodes comme SHAP ou LIME pour comprendre comment le modèle prend ses décisions."
   ]
  },
  {
   "cell_type": "markdown",
   "metadata": {},
   "source": []
  },
  {
   "cell_type": "code",
   "execution_count": 31,
   "metadata": {},
   "outputs": [
    {
     "name": "stdout",
     "output_type": "stream",
     "text": [
      "\u001b[1m7/7\u001b[0m \u001b[32m━━━━━━━━━━━━━━━━━━━━\u001b[0m\u001b[37m\u001b[0m \u001b[1m0s\u001b[0m 24ms/step\n"
     ]
    }
   ],
   "source": [
    "predictions = model.predict(X_test)\n",
    "# Si vous souhaitez obtenir des résultats binaires (0 ou 1), vous pouvez arrondir les résultats\n",
    "predictions = (predictions > 0.5).astype(int)"
   ]
  },
  {
   "cell_type": "markdown",
   "metadata": {},
   "source": []
  },
  {
   "cell_type": "code",
   "execution_count": 32,
   "metadata": {},
   "outputs": [
    {
     "name": "stderr",
     "output_type": "stream",
     "text": [
      "WARNING:absl:You are saving your model as an HDF5 file via `model.save()` or `keras.saving.save_model(model)`. This file format is considered legacy. We recommend using instead the native Keras format, e.g. `model.save('my_model.keras')` or `keras.saving.save_model(model, 'my_model.keras')`. \n"
     ]
    }
   ],
   "source": [
    "# Sauvegarde du modèle\n",
    "model.save(r'C:\\Users\\AMADOUBA\\Desktop\\Master2 SID\\Biostatistique\\ExamenBiostatistique\\modele.h5')\n"
   ]
  },
  {
   "cell_type": "code",
   "execution_count": 33,
   "metadata": {},
   "outputs": [],
   "source": [
    "model.save('modele.keras')  # Sauvegarde du modèle avec l'extension .keras\n"
   ]
  },
  {
   "cell_type": "code",
   "execution_count": 35,
   "metadata": {},
   "outputs": [
    {
     "name": "stderr",
     "output_type": "stream",
     "text": [
      "c:\\Users\\AMADOUBA\\AppData\\Local\\Programs\\Python\\Python310\\lib\\site-packages\\keras\\src\\saving\\saving_lib.py:757: UserWarning: Skipping variable loading for optimizer 'rmsprop', because it has 8 variables whereas the saved optimizer has 14 variables. \n",
      "  saveable.load_own_variables(weights_store.get(inner_path))\n"
     ]
    }
   ],
   "source": [
    "from tensorflow.keras.models import load_model\n",
    "model = load_model('modele.keras')  # Charger le modèle avec l'extension .keras\n"
   ]
  },
  {
   "cell_type": "code",
   "execution_count": 36,
   "metadata": {},
   "outputs": [],
   "source": [
    "from tensorflow.keras.optimizers import Adam\n",
    "\n",
    "# Chargement du modèle\n",
    "loaded_model = load_model('modele.keras')\n",
    "\n",
    "# Recompilation du modèle avec un optimiseur souhaité\n",
    "loaded_model.compile(optimizer=Adam(), loss='binary_crossentropy', metrics=['accuracy'])\n"
   ]
  }
 ],
 "metadata": {
  "kernelspec": {
   "display_name": "Python 3",
   "language": "python",
   "name": "python3"
  },
  "language_info": {
   "codemirror_mode": {
    "name": "ipython",
    "version": 3
   },
   "file_extension": ".py",
   "mimetype": "text/x-python",
   "name": "python",
   "nbconvert_exporter": "python",
   "pygments_lexer": "ipython3",
   "version": "3.10.0rc2"
  }
 },
 "nbformat": 4,
 "nbformat_minor": 2
}
